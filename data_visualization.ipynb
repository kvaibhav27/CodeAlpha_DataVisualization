{
 "cells": [
  {
   "cell_type": "code",
   "execution_count": 1,
   "id": "48bc3ce2",
   "metadata": {},
   "outputs": [],
   "source": [
    "import pandas as pd\n",
    "import matplotlib.pyplot as plt\n",
    "import seaborn as sns"
   ]
  },
  {
   "cell_type": "code",
   "execution_count": null,
   "id": "eea2ad8d",
   "metadata": {},
   "outputs": [],
   "source": [
    "df = pd.read_csv('covid_19_data.csv')\n",
    "print(df.head())\n",
    "print(df.info())\n",
    "print(df.describe())"
   ]
  },
  {
   "cell_type": "code",
   "execution_count": null,
   "id": "4364d0b0",
   "metadata": {},
   "outputs": [],
   "source": [
    "print(df.isnull().sum())\n",
    "df.dropna(inplace=True) \n",
    "df.rename(columns={'ObservationDate': 'Date'}, inplace=True)\n",
    "df['Date'] = pd.to_datetime(df['Date'])"
   ]
  },
  {
   "cell_type": "code",
   "execution_count": null,
   "id": "12700eb8",
   "metadata": {},
   "outputs": [],
   "source": [
    "sns.histplot(df['Confirmed'], kde=True)\n",
    "plt.title('Distribution of Confirmed Cases')\n",
    "plt.xlabel('Confirmed Cases')\n",
    "plt.ylabel('Frequency')\n",
    "plt.show()\n",
    "sns.countplot(x='Country/Region', data=df, order=df['Country/Region'].value_counts().index[:10])\n",
    "plt.title('Top 10 Countries by Number of Records')\n",
    "plt.xticks(rotation=45)\n",
    "plt.ylabel('Number of Records')\n",
    "plt.show()"
   ]
  },
  {
   "cell_type": "code",
   "execution_count": null,
   "id": "c24067fe",
   "metadata": {},
   "outputs": [],
   "source": [
    "sns.scatterplot(x='Confirmed', y='Deaths', data=df)\n",
    "plt.title('Confirmed Cases vs Deaths')\n",
    "plt.xlabel('Confirmed')\n",
    "plt.ylabel('Deaths')\n",
    "plt.show()"
   ]
  },
  {
   "cell_type": "code",
   "execution_count": null,
   "id": "8000d192",
   "metadata": {},
   "outputs": [],
   "source": [
    "top_countries = df.groupby('Country/Region')['Deaths'].sum().sort_values(ascending=False).head(10).index\n",
    "sns.boxplot(x='Country/Region', y='Deaths', data=df[df['Country/Region'].isin(top_countries)])\n",
    "plt.title('Deaths Distribution by Country (Top 10)')\n",
    "plt.xticks(rotation=45)\n",
    "plt.show()\n",
    "plt.figure(figsize=(10, 6))\n",
    "sns.heatmap(df[['Confirmed', 'Deaths', 'Recovered']].corr(), annot=True, cmap='coolwarm')\n",
    "plt.title('Correlation Matrix')\n",
    "plt.show()"
   ]
  }
 ],
 "metadata": {
  "kernelspec": {
   "display_name": "Python 3",
   "language": "python",
   "name": "python3"
  },
  "language_info": {
   "codemirror_mode": {
    "name": "ipython",
    "version": 3
   },
   "file_extension": ".py",
   "mimetype": "text/x-python",
   "name": "python",
   "nbconvert_exporter": "python",
   "pygments_lexer": "ipython3",
   "version": "3.13.5"
  }
 },
 "nbformat": 4,
 "nbformat_minor": 5
}
